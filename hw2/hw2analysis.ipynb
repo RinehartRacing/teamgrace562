{
 "cells": [
  {
   "cell_type": "code",
   "execution_count": 10,
   "metadata": {},
   "outputs": [
    {
     "name": "stdout",
     "output_type": "stream",
     "text": [
      "{'benchmark': ['a2time01', 'bitmnp01', 'cacheb01', 'libquantum', 'mcf']}\n"
     ]
    }
   ],
   "source": [
    "import pandas as pd\n",
    "from glob import glob\n",
    "import subprocess as sp\n",
    "\n",
    "data = {\"benchmark\": []}\n",
    "stats = glob(\"./benchmarks/*\")\n",
    "for stat in stats:\n",
    "    file = stat.split(\"/\")[-1]\n",
    "    benchmark = file.split(\"-\")[0]\n",
    "    bp = file.split(\"-\")[1]\n",
    "    print(f\"Benchmark: {benchmark}, BP: {bp}\")\n",
    "    execution_time = sp.getoutput(f\"cat {stat} | grep sim_seconds\").split()[1]\n",
    "    print(execution_time)"
   ]
  }
 ],
 "metadata": {
  "kernelspec": {
   "display_name": "Python 3",
   "language": "python",
   "name": "python3"
  },
  "language_info": {
   "codemirror_mode": {
    "name": "ipython",
    "version": 3
   },
   "file_extension": ".py",
   "mimetype": "text/x-python",
   "name": "python",
   "nbconvert_exporter": "python",
   "pygments_lexer": "ipython3",
   "version": "3.6.9"
  },
  "orig_nbformat": 4
 },
 "nbformat": 4,
 "nbformat_minor": 2
}
